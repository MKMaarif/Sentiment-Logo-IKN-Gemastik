{
 "cells": [
  {
   "attachments": {},
   "cell_type": "markdown",
   "metadata": {},
   "source": [
    "## Load Dataset"
   ]
  },
  {
   "cell_type": "code",
   "execution_count": 3,
   "metadata": {},
   "outputs": [],
   "source": [
    "import pandas as pd"
   ]
  },
  {
   "cell_type": "code",
   "execution_count": 4,
   "metadata": {},
   "outputs": [
    {
     "data": {
      "text/html": [
       "<div>\n",
       "<style scoped>\n",
       "    .dataframe tbody tr th:only-of-type {\n",
       "        vertical-align: middle;\n",
       "    }\n",
       "\n",
       "    .dataframe tbody tr th {\n",
       "        vertical-align: top;\n",
       "    }\n",
       "\n",
       "    .dataframe thead th {\n",
       "        text-align: right;\n",
       "    }\n",
       "</style>\n",
       "<table border=\"1\" class=\"dataframe\">\n",
       "  <thead>\n",
       "    <tr style=\"text-align: right;\">\n",
       "      <th></th>\n",
       "      <th>id</th>\n",
       "      <th>date</th>\n",
       "      <th>profileId</th>\n",
       "      <th>profileName</th>\n",
       "      <th>text</th>\n",
       "    </tr>\n",
       "  </thead>\n",
       "  <tbody>\n",
       "    <tr>\n",
       "      <th>0</th>\n",
       "      <td>Y29tbWVudDo4MTkwNjA1Mzk1NzYwNDJfNzg1NjU0MTQ5OD...</td>\n",
       "      <td>2023-05-31T01:58:04.000Z</td>\n",
       "      <td>pfbid0jYSE3NidmjiRHMu5yh43SHNnisKR7EhGFpPotKhV...</td>\n",
       "      <td>Soekma Giri Gerilyanto</td>\n",
       "      <td>Agustus 2024, Ibu Kota negara pindah ke Kalima...</td>\n",
       "    </tr>\n",
       "    <tr>\n",
       "      <th>1</th>\n",
       "      <td>Y29tbWVudDo4MTkwNjA1Mzk1NzYwNDJfMjMxODAwNDM3OD...</td>\n",
       "      <td>2023-05-31T04:37:52.000Z</td>\n",
       "      <td>100002315165121</td>\n",
       "      <td>Mogi Mahardhika</td>\n",
       "      <td>Keren Logo dan makna Filosofis yang terkandung...</td>\n",
       "    </tr>\n",
       "    <tr>\n",
       "      <th>2</th>\n",
       "      <td>Y29tbWVudDo4MTkwNjA1Mzk1NzYwNDJfOTY5ODI0NjcwNz...</td>\n",
       "      <td>2023-05-31T02:29:00.000Z</td>\n",
       "      <td>pfbid02ewJkERjjYtTX2w94vayhA48eVf9BrxBxwjdvcyh...</td>\n",
       "      <td>Muhammad Husain</td>\n",
       "      <td>Ini terobosan emas buat pulau Kalimantan oleh ...</td>\n",
       "    </tr>\n",
       "    <tr>\n",
       "      <th>3</th>\n",
       "      <td>Y29tbWVudDo4MTkwNjA1Mzk1NzYwNDJfNzk3NzkzODc1MT...</td>\n",
       "      <td>2023-05-31T02:05:51.000Z</td>\n",
       "      <td>pfbid02fSgeCwm7HH9rRLTL4a9FQAsrryES3XKZWxzpFN3...</td>\n",
       "      <td>Agustien Tulong</td>\n",
       "      <td>Keren filosofinya. Semoga dipahami dan diprakt...</td>\n",
       "    </tr>\n",
       "    <tr>\n",
       "      <th>4</th>\n",
       "      <td>Y29tbWVudDo4MTkwNjA1Mzk1NzYwNDJfMjAyMTM0NzQ2MD...</td>\n",
       "      <td>2023-05-31T01:59:47.000Z</td>\n",
       "      <td>pfbid0MzxmwRA2TPjF27CRZbPPbkaUuC4qPBRrgK5wU2y5...</td>\n",
       "      <td>M Taufiq Ash</td>\n",
       "      <td>Terlihat bernuansa kegagahan dan kekokohan seb...</td>\n",
       "    </tr>\n",
       "  </tbody>\n",
       "</table>\n",
       "</div>"
      ],
      "text/plain": [
       "                                                  id  \\\n",
       "0  Y29tbWVudDo4MTkwNjA1Mzk1NzYwNDJfNzg1NjU0MTQ5OD...   \n",
       "1  Y29tbWVudDo4MTkwNjA1Mzk1NzYwNDJfMjMxODAwNDM3OD...   \n",
       "2  Y29tbWVudDo4MTkwNjA1Mzk1NzYwNDJfOTY5ODI0NjcwNz...   \n",
       "3  Y29tbWVudDo4MTkwNjA1Mzk1NzYwNDJfNzk3NzkzODc1MT...   \n",
       "4  Y29tbWVudDo4MTkwNjA1Mzk1NzYwNDJfMjAyMTM0NzQ2MD...   \n",
       "\n",
       "                       date  \\\n",
       "0  2023-05-31T01:58:04.000Z   \n",
       "1  2023-05-31T04:37:52.000Z   \n",
       "2  2023-05-31T02:29:00.000Z   \n",
       "3  2023-05-31T02:05:51.000Z   \n",
       "4  2023-05-31T01:59:47.000Z   \n",
       "\n",
       "                                           profileId             profileName  \\\n",
       "0  pfbid0jYSE3NidmjiRHMu5yh43SHNnisKR7EhGFpPotKhV...  Soekma Giri Gerilyanto   \n",
       "1                                    100002315165121         Mogi Mahardhika   \n",
       "2  pfbid02ewJkERjjYtTX2w94vayhA48eVf9BrxBxwjdvcyh...         Muhammad Husain   \n",
       "3  pfbid02fSgeCwm7HH9rRLTL4a9FQAsrryES3XKZWxzpFN3...         Agustien Tulong   \n",
       "4  pfbid0MzxmwRA2TPjF27CRZbPPbkaUuC4qPBRrgK5wU2y5...            M Taufiq Ash   \n",
       "\n",
       "                                                text  \n",
       "0  Agustus 2024, Ibu Kota negara pindah ke Kalima...  \n",
       "1  Keren Logo dan makna Filosofis yang terkandung...  \n",
       "2  Ini terobosan emas buat pulau Kalimantan oleh ...  \n",
       "3  Keren filosofinya. Semoga dipahami dan diprakt...  \n",
       "4  Terlihat bernuansa kegagahan dan kekokohan seb...  "
      ]
     },
     "execution_count": 4,
     "metadata": {},
     "output_type": "execute_result"
    }
   ],
   "source": [
    "# import dataset\n",
    "ikn_df = pd.read_csv('ikn_fb_comment.csv')\n",
    "ikn_df.head()"
   ]
  },
  {
   "cell_type": "code",
   "execution_count": 5,
   "metadata": {},
   "outputs": [
    {
     "name": "stdout",
     "output_type": "stream",
     "text": [
      "<class 'pandas.core.frame.DataFrame'>\n",
      "RangeIndex: 500 entries, 0 to 499\n",
      "Data columns (total 5 columns):\n",
      " #   Column       Non-Null Count  Dtype \n",
      "---  ------       --------------  ----- \n",
      " 0   id           500 non-null    object\n",
      " 1   date         500 non-null    object\n",
      " 2   profileId    500 non-null    object\n",
      " 3   profileName  500 non-null    object\n",
      " 4   text         475 non-null    object\n",
      "dtypes: object(5)\n",
      "memory usage: 19.7+ KB\n"
     ]
    }
   ],
   "source": [
    "ikn_df.info()"
   ]
  },
  {
   "attachments": {},
   "cell_type": "markdown",
   "metadata": {},
   "source": [
    "## Cleaning Data"
   ]
  },
  {
   "cell_type": "code",
   "execution_count": 6,
   "metadata": {},
   "outputs": [
    {
     "name": "stdout",
     "output_type": "stream",
     "text": [
      "<class 'pandas.core.frame.DataFrame'>\n",
      "Int64Index: 500 entries, 0 to 499\n",
      "Data columns (total 5 columns):\n",
      " #   Column       Non-Null Count  Dtype \n",
      "---  ------       --------------  ----- \n",
      " 0   id           500 non-null    object\n",
      " 1   date         500 non-null    object\n",
      " 2   profileId    500 non-null    object\n",
      " 3   profileName  500 non-null    object\n",
      " 4   text         475 non-null    object\n",
      "dtypes: object(5)\n",
      "memory usage: 23.4+ KB\n"
     ]
    }
   ],
   "source": [
    "# menghapus duplikasi data\n",
    "ikn_df = ikn_df.drop_duplicates()\n",
    "ikn_df.info()"
   ]
  },
  {
   "cell_type": "code",
   "execution_count": 7,
   "metadata": {},
   "outputs": [
    {
     "name": "stdout",
     "output_type": "stream",
     "text": [
      "<class 'pandas.core.frame.DataFrame'>\n",
      "Int64Index: 475 entries, 0 to 499\n",
      "Data columns (total 5 columns):\n",
      " #   Column       Non-Null Count  Dtype \n",
      "---  ------       --------------  ----- \n",
      " 0   id           475 non-null    object\n",
      " 1   date         475 non-null    object\n",
      " 2   profileId    475 non-null    object\n",
      " 3   profileName  475 non-null    object\n",
      " 4   text         475 non-null    object\n",
      "dtypes: object(5)\n",
      "memory usage: 22.3+ KB\n"
     ]
    }
   ],
   "source": [
    "# menghapus null data\n",
    "ikn_df = ikn_df.dropna()\n",
    "ikn_df.info()"
   ]
  },
  {
   "attachments": {},
   "cell_type": "markdown",
   "metadata": {},
   "source": [
    "## Preprocess Data"
   ]
  },
  {
   "cell_type": "code",
   "execution_count": 8,
   "metadata": {},
   "outputs": [
    {
     "name": "stdout",
     "output_type": "stream",
     "text": [
      "Defaulting to user installation because normal site-packages is not writeable\n",
      "Requirement already satisfied: Sastrawi in c:\\users\\mkmaa\\appdata\\roaming\\python\\python311\\site-packages (1.0.1)\n"
     ]
    },
    {
     "name": "stderr",
     "output_type": "stream",
     "text": [
      "\n",
      "[notice] A new release of pip available: 22.3.1 -> 23.1.2\n",
      "[notice] To update, run: python.exe -m pip install --upgrade pip\n"
     ]
    }
   ],
   "source": [
    "# Install Sastrawi\n",
    "!pip install Sastrawi"
   ]
  },
  {
   "cell_type": "code",
   "execution_count": 9,
   "metadata": {},
   "outputs": [],
   "source": [
    "# import library\n",
    "import re\n",
    "import string\n",
    "import nltk\n",
    "from nltk.tokenize import word_tokenize\n",
    "from nltk.corpus import stopwords\n",
    "from Sastrawi.Stemmer.StemmerFactory import StemmerFactory"
   ]
  },
  {
   "cell_type": "code",
   "execution_count": 10,
   "metadata": {},
   "outputs": [],
   "source": [
    "# preprocess indonesian text data\n",
    "def preprocess_text(text):\n",
    "    # remove url\n",
    "    text = re.sub(r\"http\\S+\", \"\", text)\n",
    "    # remove angka\n",
    "    text = re.sub(r\"\\d+\", \"\", text)\n",
    "    # remove punctuation\n",
    "    text = text.translate(str.maketrans(\"\",\"\",string.punctuation))\n",
    "    # case folding\n",
    "    text = text.lower()\n",
    "    # tokenization\n",
    "    text = word_tokenize(text)\n",
    "    # remove stopwords\n",
    "    stop_words = set(stopwords.words('indonesian'))\n",
    "    text = [word for word in text if word not in stop_words]\n",
    "    # stemming\n",
    "    factory = StemmerFactory()\n",
    "    stemmer = factory.create_stemmer()\n",
    "    text = [stemmer.stem(word) for word in text]\n",
    "    # join text\n",
    "    text = ' '.join(text)\n",
    "    # remove whitespace leading & trailing\n",
    "    text = text.strip()\n",
    "    # remove multiple whitespace into single whitespace\n",
    "    text = re.sub('\\s+',' ',text)\n",
    "    return text\n"
   ]
  },
  {
   "cell_type": "code",
   "execution_count": 11,
   "metadata": {},
   "outputs": [
    {
     "data": {
      "text/html": [
       "<div>\n",
       "<style scoped>\n",
       "    .dataframe tbody tr th:only-of-type {\n",
       "        vertical-align: middle;\n",
       "    }\n",
       "\n",
       "    .dataframe tbody tr th {\n",
       "        vertical-align: top;\n",
       "    }\n",
       "\n",
       "    .dataframe thead th {\n",
       "        text-align: right;\n",
       "    }\n",
       "</style>\n",
       "<table border=\"1\" class=\"dataframe\">\n",
       "  <thead>\n",
       "    <tr style=\"text-align: right;\">\n",
       "      <th></th>\n",
       "      <th>id</th>\n",
       "      <th>date</th>\n",
       "      <th>profileId</th>\n",
       "      <th>profileName</th>\n",
       "      <th>text</th>\n",
       "      <th>clean_text</th>\n",
       "    </tr>\n",
       "  </thead>\n",
       "  <tbody>\n",
       "    <tr>\n",
       "      <th>0</th>\n",
       "      <td>Y29tbWVudDo4MTkwNjA1Mzk1NzYwNDJfNzg1NjU0MTQ5OD...</td>\n",
       "      <td>2023-05-31T01:58:04.000Z</td>\n",
       "      <td>pfbid0jYSE3NidmjiRHMu5yh43SHNnisKR7EhGFpPotKhV...</td>\n",
       "      <td>Soekma Giri Gerilyanto</td>\n",
       "      <td>Agustus 2024, Ibu Kota negara pindah ke Kalima...</td>\n",
       "      <td>agustus kota negara pindah kalimantan</td>\n",
       "    </tr>\n",
       "    <tr>\n",
       "      <th>1</th>\n",
       "      <td>Y29tbWVudDo4MTkwNjA1Mzk1NzYwNDJfMjMxODAwNDM3OD...</td>\n",
       "      <td>2023-05-31T04:37:52.000Z</td>\n",
       "      <td>100002315165121</td>\n",
       "      <td>Mogi Mahardhika</td>\n",
       "      <td>Keren Logo dan makna Filosofis yang terkandung...</td>\n",
       "      <td>keren logo makna filosofis kandung dalam moga ...</td>\n",
       "    </tr>\n",
       "    <tr>\n",
       "      <th>2</th>\n",
       "      <td>Y29tbWVudDo4MTkwNjA1Mzk1NzYwNDJfOTY5ODI0NjcwNz...</td>\n",
       "      <td>2023-05-31T02:29:00.000Z</td>\n",
       "      <td>pfbid02ewJkERjjYtTX2w94vayhA48eVf9BrxBxwjdvcyh...</td>\n",
       "      <td>Muhammad Husain</td>\n",
       "      <td>Ini terobosan emas buat pulau Kalimantan oleh ...</td>\n",
       "      <td>terobos emas pulau kalimantan presiden mari du...</td>\n",
       "    </tr>\n",
       "    <tr>\n",
       "      <th>3</th>\n",
       "      <td>Y29tbWVudDo4MTkwNjA1Mzk1NzYwNDJfNzk3NzkzODc1MT...</td>\n",
       "      <td>2023-05-31T02:05:51.000Z</td>\n",
       "      <td>pfbid02fSgeCwm7HH9rRLTL4a9FQAsrryES3XKZWxzpFN3...</td>\n",
       "      <td>Agustien Tulong</td>\n",
       "      <td>Keren filosofinya. Semoga dipahami dan diprakt...</td>\n",
       "      <td>keren filosofi moga paham praktek usak lingkun...</td>\n",
       "    </tr>\n",
       "    <tr>\n",
       "      <th>4</th>\n",
       "      <td>Y29tbWVudDo4MTkwNjA1Mzk1NzYwNDJfMjAyMTM0NzQ2MD...</td>\n",
       "      <td>2023-05-31T01:59:47.000Z</td>\n",
       "      <td>pfbid0MzxmwRA2TPjF27CRZbPPbkaUuC4qPBRrgK5wU2y5...</td>\n",
       "      <td>M Taufiq Ash</td>\n",
       "      <td>Terlihat bernuansa kegagahan dan kekokohan seb...</td>\n",
       "      <td>nuansa gagah kokoh raja negara yg</td>\n",
       "    </tr>\n",
       "  </tbody>\n",
       "</table>\n",
       "</div>"
      ],
      "text/plain": [
       "                                                  id  \\\n",
       "0  Y29tbWVudDo4MTkwNjA1Mzk1NzYwNDJfNzg1NjU0MTQ5OD...   \n",
       "1  Y29tbWVudDo4MTkwNjA1Mzk1NzYwNDJfMjMxODAwNDM3OD...   \n",
       "2  Y29tbWVudDo4MTkwNjA1Mzk1NzYwNDJfOTY5ODI0NjcwNz...   \n",
       "3  Y29tbWVudDo4MTkwNjA1Mzk1NzYwNDJfNzk3NzkzODc1MT...   \n",
       "4  Y29tbWVudDo4MTkwNjA1Mzk1NzYwNDJfMjAyMTM0NzQ2MD...   \n",
       "\n",
       "                       date  \\\n",
       "0  2023-05-31T01:58:04.000Z   \n",
       "1  2023-05-31T04:37:52.000Z   \n",
       "2  2023-05-31T02:29:00.000Z   \n",
       "3  2023-05-31T02:05:51.000Z   \n",
       "4  2023-05-31T01:59:47.000Z   \n",
       "\n",
       "                                           profileId             profileName  \\\n",
       "0  pfbid0jYSE3NidmjiRHMu5yh43SHNnisKR7EhGFpPotKhV...  Soekma Giri Gerilyanto   \n",
       "1                                    100002315165121         Mogi Mahardhika   \n",
       "2  pfbid02ewJkERjjYtTX2w94vayhA48eVf9BrxBxwjdvcyh...         Muhammad Husain   \n",
       "3  pfbid02fSgeCwm7HH9rRLTL4a9FQAsrryES3XKZWxzpFN3...         Agustien Tulong   \n",
       "4  pfbid0MzxmwRA2TPjF27CRZbPPbkaUuC4qPBRrgK5wU2y5...            M Taufiq Ash   \n",
       "\n",
       "                                                text  \\\n",
       "0  Agustus 2024, Ibu Kota negara pindah ke Kalima...   \n",
       "1  Keren Logo dan makna Filosofis yang terkandung...   \n",
       "2  Ini terobosan emas buat pulau Kalimantan oleh ...   \n",
       "3  Keren filosofinya. Semoga dipahami dan diprakt...   \n",
       "4  Terlihat bernuansa kegagahan dan kekokohan seb...   \n",
       "\n",
       "                                          clean_text  \n",
       "0              agustus kota negara pindah kalimantan  \n",
       "1  keren logo makna filosofis kandung dalam moga ...  \n",
       "2  terobos emas pulau kalimantan presiden mari du...  \n",
       "3  keren filosofi moga paham praktek usak lingkun...  \n",
       "4                  nuansa gagah kokoh raja negara yg  "
      ]
     },
     "execution_count": 11,
     "metadata": {},
     "output_type": "execute_result"
    }
   ],
   "source": [
    "# apply preprocess_text function to dataset\n",
    "ikn_df['clean_text'] = ikn_df['text'].apply(preprocess_text)\n",
    "ikn_df.head()"
   ]
  },
  {
   "cell_type": "code",
   "execution_count": 12,
   "metadata": {},
   "outputs": [
    {
     "name": "stdout",
     "output_type": "stream",
     "text": [
      "<class 'pandas.core.frame.DataFrame'>\n",
      "Int64Index: 443 entries, 0 to 499\n",
      "Data columns (total 6 columns):\n",
      " #   Column       Non-Null Count  Dtype \n",
      "---  ------       --------------  ----- \n",
      " 0   id           443 non-null    object\n",
      " 1   date         443 non-null    object\n",
      " 2   profileId    443 non-null    object\n",
      " 3   profileName  443 non-null    object\n",
      " 4   text         443 non-null    object\n",
      " 5   clean_text   443 non-null    object\n",
      "dtypes: object(6)\n",
      "memory usage: 24.2+ KB\n"
     ]
    }
   ],
   "source": [
    "# remove text with length < 3\n",
    "ikn_df = ikn_df[ikn_df['clean_text'].str.len() > 3]\n",
    "ikn_df.info()"
   ]
  },
  {
   "attachments": {},
   "cell_type": "markdown",
   "metadata": {},
   "source": [
    "## Sentiment Analysis"
   ]
  },
  {
   "cell_type": "code",
   "execution_count": 13,
   "metadata": {},
   "outputs": [
    {
     "name": "stdout",
     "output_type": "stream",
     "text": [
      "Defaulting to user installation because normal site-packages is not writeable\n",
      "Requirement already satisfied: textblob in c:\\users\\mkmaa\\appdata\\roaming\\python\\python311\\site-packages (0.17.1)\n",
      "Requirement already satisfied: nltk>=3.1 in c:\\users\\mkmaa\\appdata\\roaming\\python\\python311\\site-packages (from textblob) (3.8)\n",
      "Requirement already satisfied: click in c:\\users\\mkmaa\\appdata\\roaming\\python\\python311\\site-packages (from nltk>=3.1->textblob) (8.1.3)\n",
      "Requirement already satisfied: joblib in c:\\users\\mkmaa\\appdata\\roaming\\python\\python311\\site-packages (from nltk>=3.1->textblob) (1.2.0)\n",
      "Requirement already satisfied: regex>=2021.8.3 in c:\\users\\mkmaa\\appdata\\roaming\\python\\python311\\site-packages (from nltk>=3.1->textblob) (2022.10.31)\n",
      "Requirement already satisfied: tqdm in c:\\users\\mkmaa\\appdata\\roaming\\python\\python311\\site-packages (from nltk>=3.1->textblob) (4.64.1)\n",
      "Requirement already satisfied: colorama in c:\\users\\mkmaa\\appdata\\roaming\\python\\python311\\site-packages (from click->nltk>=3.1->textblob) (0.4.6)\n"
     ]
    },
    {
     "name": "stderr",
     "output_type": "stream",
     "text": [
      "\n",
      "[notice] A new release of pip available: 22.3.1 -> 23.1.2\n",
      "[notice] To update, run: python.exe -m pip install --upgrade pip\n"
     ]
    }
   ],
   "source": [
    "!pip install textblob"
   ]
  },
  {
   "cell_type": "code",
   "execution_count": 15,
   "metadata": {},
   "outputs": [],
   "source": [
    "# import library\n",
    "from textblob import TextBlob\n",
    "from googletrans import Translator"
   ]
  },
  {
   "cell_type": "code",
   "execution_count": 21,
   "metadata": {},
   "outputs": [
    {
     "name": "stdout",
     "output_type": "stream",
     "text": [
      "positive\n",
      "Cool Logo The philosophical meaning of the biological in I hope Allah SWT will run smoothly\n"
     ]
    }
   ],
   "source": [
    "analysis = TextBlob(ikn_df['clean_text'][1])\n",
    "analysis = analysis.translate(from_lang='id', to='en')\n",
    "if analysis.sentiment.polarity > 0:\n",
    "    print ('positive')\n",
    "elif analysis.sentiment.polarity == 0:\n",
    "    print ('neutral')\n",
    "else:\n",
    "    print ('negative')\n",
    "print(analysis)"
   ]
  },
  {
   "cell_type": "code",
   "execution_count": 24,
   "metadata": {},
   "outputs": [],
   "source": [
    "translator = Translator()\n",
    "\n",
    "# sentiment analysis\n",
    "def sentiment_analysis(text):\n",
    "    # translate text to english\n",
    "    analysis = translator.translate(text, dest='en')\n",
    "\n",
    "    # sentiment analysis using textblob\n",
    "    analysis = TextBlob(analysis.text)\n",
    "    # translate polarity to sentiment\n",
    "    polarity = analysis.sentiment.polarity\n",
    "    if polarity > 0:\n",
    "        return 'positive'\n",
    "    elif polarity == 0:\n",
    "        return 'neutral'\n",
    "    else:\n",
    "        return 'negative'"
   ]
  },
  {
   "cell_type": "code",
   "execution_count": 25,
   "metadata": {},
   "outputs": [
    {
     "data": {
      "text/html": [
       "<div>\n",
       "<style scoped>\n",
       "    .dataframe tbody tr th:only-of-type {\n",
       "        vertical-align: middle;\n",
       "    }\n",
       "\n",
       "    .dataframe tbody tr th {\n",
       "        vertical-align: top;\n",
       "    }\n",
       "\n",
       "    .dataframe thead th {\n",
       "        text-align: right;\n",
       "    }\n",
       "</style>\n",
       "<table border=\"1\" class=\"dataframe\">\n",
       "  <thead>\n",
       "    <tr style=\"text-align: right;\">\n",
       "      <th></th>\n",
       "      <th>id</th>\n",
       "      <th>date</th>\n",
       "      <th>profileId</th>\n",
       "      <th>profileName</th>\n",
       "      <th>text</th>\n",
       "      <th>clean_text</th>\n",
       "      <th>sentiment</th>\n",
       "    </tr>\n",
       "  </thead>\n",
       "  <tbody>\n",
       "    <tr>\n",
       "      <th>0</th>\n",
       "      <td>Y29tbWVudDo4MTkwNjA1Mzk1NzYwNDJfNzg1NjU0MTQ5OD...</td>\n",
       "      <td>2023-05-31T01:58:04.000Z</td>\n",
       "      <td>pfbid0jYSE3NidmjiRHMu5yh43SHNnisKR7EhGFpPotKhV...</td>\n",
       "      <td>Soekma Giri Gerilyanto</td>\n",
       "      <td>Agustus 2024, Ibu Kota negara pindah ke Kalima...</td>\n",
       "      <td>agustus kota negara pindah kalimantan</td>\n",
       "      <td>neutral</td>\n",
       "    </tr>\n",
       "    <tr>\n",
       "      <th>1</th>\n",
       "      <td>Y29tbWVudDo4MTkwNjA1Mzk1NzYwNDJfMjMxODAwNDM3OD...</td>\n",
       "      <td>2023-05-31T04:37:52.000Z</td>\n",
       "      <td>100002315165121</td>\n",
       "      <td>Mogi Mahardhika</td>\n",
       "      <td>Keren Logo dan makna Filosofis yang terkandung...</td>\n",
       "      <td>keren logo makna filosofis kandung dalam moga ...</td>\n",
       "      <td>positive</td>\n",
       "    </tr>\n",
       "    <tr>\n",
       "      <th>2</th>\n",
       "      <td>Y29tbWVudDo4MTkwNjA1Mzk1NzYwNDJfOTY5ODI0NjcwNz...</td>\n",
       "      <td>2023-05-31T02:29:00.000Z</td>\n",
       "      <td>pfbid02ewJkERjjYtTX2w94vayhA48eVf9BrxBxwjdvcyh...</td>\n",
       "      <td>Muhammad Husain</td>\n",
       "      <td>Ini terobosan emas buat pulau Kalimantan oleh ...</td>\n",
       "      <td>terobos emas pulau kalimantan presiden mari du...</td>\n",
       "      <td>positive</td>\n",
       "    </tr>\n",
       "    <tr>\n",
       "      <th>3</th>\n",
       "      <td>Y29tbWVudDo4MTkwNjA1Mzk1NzYwNDJfNzk3NzkzODc1MT...</td>\n",
       "      <td>2023-05-31T02:05:51.000Z</td>\n",
       "      <td>pfbid02fSgeCwm7HH9rRLTL4a9FQAsrryES3XKZWxzpFN3...</td>\n",
       "      <td>Agustien Tulong</td>\n",
       "      <td>Keren filosofinya. Semoga dipahami dan diprakt...</td>\n",
       "      <td>keren filosofi moga paham praktek usak lingkun...</td>\n",
       "      <td>positive</td>\n",
       "    </tr>\n",
       "    <tr>\n",
       "      <th>4</th>\n",
       "      <td>Y29tbWVudDo4MTkwNjA1Mzk1NzYwNDJfMjAyMTM0NzQ2MD...</td>\n",
       "      <td>2023-05-31T01:59:47.000Z</td>\n",
       "      <td>pfbid0MzxmwRA2TPjF27CRZbPPbkaUuC4qPBRrgK5wU2y5...</td>\n",
       "      <td>M Taufiq Ash</td>\n",
       "      <td>Terlihat bernuansa kegagahan dan kekokohan seb...</td>\n",
       "      <td>nuansa gagah kokoh raja negara yg</td>\n",
       "      <td>positive</td>\n",
       "    </tr>\n",
       "  </tbody>\n",
       "</table>\n",
       "</div>"
      ],
      "text/plain": [
       "                                                  id  \\\n",
       "0  Y29tbWVudDo4MTkwNjA1Mzk1NzYwNDJfNzg1NjU0MTQ5OD...   \n",
       "1  Y29tbWVudDo4MTkwNjA1Mzk1NzYwNDJfMjMxODAwNDM3OD...   \n",
       "2  Y29tbWVudDo4MTkwNjA1Mzk1NzYwNDJfOTY5ODI0NjcwNz...   \n",
       "3  Y29tbWVudDo4MTkwNjA1Mzk1NzYwNDJfNzk3NzkzODc1MT...   \n",
       "4  Y29tbWVudDo4MTkwNjA1Mzk1NzYwNDJfMjAyMTM0NzQ2MD...   \n",
       "\n",
       "                       date  \\\n",
       "0  2023-05-31T01:58:04.000Z   \n",
       "1  2023-05-31T04:37:52.000Z   \n",
       "2  2023-05-31T02:29:00.000Z   \n",
       "3  2023-05-31T02:05:51.000Z   \n",
       "4  2023-05-31T01:59:47.000Z   \n",
       "\n",
       "                                           profileId             profileName  \\\n",
       "0  pfbid0jYSE3NidmjiRHMu5yh43SHNnisKR7EhGFpPotKhV...  Soekma Giri Gerilyanto   \n",
       "1                                    100002315165121         Mogi Mahardhika   \n",
       "2  pfbid02ewJkERjjYtTX2w94vayhA48eVf9BrxBxwjdvcyh...         Muhammad Husain   \n",
       "3  pfbid02fSgeCwm7HH9rRLTL4a9FQAsrryES3XKZWxzpFN3...         Agustien Tulong   \n",
       "4  pfbid0MzxmwRA2TPjF27CRZbPPbkaUuC4qPBRrgK5wU2y5...            M Taufiq Ash   \n",
       "\n",
       "                                                text  \\\n",
       "0  Agustus 2024, Ibu Kota negara pindah ke Kalima...   \n",
       "1  Keren Logo dan makna Filosofis yang terkandung...   \n",
       "2  Ini terobosan emas buat pulau Kalimantan oleh ...   \n",
       "3  Keren filosofinya. Semoga dipahami dan diprakt...   \n",
       "4  Terlihat bernuansa kegagahan dan kekokohan seb...   \n",
       "\n",
       "                                          clean_text sentiment  \n",
       "0              agustus kota negara pindah kalimantan   neutral  \n",
       "1  keren logo makna filosofis kandung dalam moga ...  positive  \n",
       "2  terobos emas pulau kalimantan presiden mari du...  positive  \n",
       "3  keren filosofi moga paham praktek usak lingkun...  positive  \n",
       "4                  nuansa gagah kokoh raja negara yg  positive  "
      ]
     },
     "execution_count": 25,
     "metadata": {},
     "output_type": "execute_result"
    }
   ],
   "source": [
    "# apply sentiment_analysis function to dataset\n",
    "ikn_df['sentiment'] = ikn_df['clean_text'].apply(sentiment_analysis)\n",
    "ikn_df.head()"
   ]
  },
  {
   "cell_type": "code",
   "execution_count": 26,
   "metadata": {},
   "outputs": [
    {
     "data": {
      "text/plain": [
       "positive    234\n",
       "neutral     183\n",
       "negative     26\n",
       "Name: sentiment, dtype: int64"
      ]
     },
     "execution_count": 26,
     "metadata": {},
     "output_type": "execute_result"
    }
   ],
   "source": [
    "# Count sentiment value\n",
    "ikn_df['sentiment'].value_counts()"
   ]
  },
  {
   "cell_type": "code",
   "execution_count": 28,
   "metadata": {},
   "outputs": [
    {
     "data": {
      "text/plain": [
       "'Kenapa tidak logo batang sawit dibuat ya,, itu lebih masa depan. Walaupun harga anjlok, saya tidak tau darimana salahnya kebijakan kah atau mafia lagi. Atau sibuk urus partai..'"
      ]
     },
     "execution_count": 28,
     "metadata": {},
     "output_type": "execute_result"
    }
   ],
   "source": [
    "# take 1 negative sentiment\n",
    "ikn_df[ikn_df['sentiment'] == 'negative']['text'].head(1).values[0]"
   ]
  },
  {
   "cell_type": "code",
   "execution_count": null,
   "metadata": {},
   "outputs": [],
   "source": [
    "# export dataset\n",
    "# ikn_df.to_csv('dataset_sentiment_analysis_ikn2.csv', index=False)"
   ]
  }
 ],
 "metadata": {
  "kernelspec": {
   "display_name": "Python 3",
   "language": "python",
   "name": "python3"
  },
  "language_info": {
   "codemirror_mode": {
    "name": "ipython",
    "version": 3
   },
   "file_extension": ".py",
   "mimetype": "text/x-python",
   "name": "python",
   "nbconvert_exporter": "python",
   "pygments_lexer": "ipython3",
   "version": "3.11.1"
  },
  "orig_nbformat": 4
 },
 "nbformat": 4,
 "nbformat_minor": 2
}
